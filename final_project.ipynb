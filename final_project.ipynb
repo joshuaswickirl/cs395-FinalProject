{
 "cells": [
  {
   "cell_type": "markdown",
   "metadata": {},
   "source": [
    "# CS395 - Final Project\n",
    "### Classifying Income From Census Data\n",
    "\n",
    "Date: April 14th, 2019\n",
    "By: Joshua Swick and Lauren Simms"
   ]
  },
  {
   "cell_type": "code",
   "execution_count": 2,
   "metadata": {},
   "outputs": [],
   "source": [
    "import numpy as np\n",
    "import pandas as pd\n",
    "\n",
    "import tensorflow as tf\n",
    "from tensorflow import feature_column\n",
    "from tensorflow import keras\n",
    "from tensorflow.keras.utils import to_categorical\n",
    "from sklearn.model_selection import train_test_split"
   ]
  },
  {
   "cell_type": "markdown",
   "metadata": {},
   "source": [
    "## Load and prepare dataset"
   ]
  },
  {
   "cell_type": "code",
   "execution_count": 11,
   "metadata": {},
   "outputs": [],
   "source": [
    "census_data_file = \"data/census_data.csv\"\n",
    "headers = [\n",
    "    'age',\n",
    "    'workclass',\n",
    "    'fnlwgt',\n",
    "    'education',\n",
    "    'education-num',\n",
    "    'marital-status',\n",
    "    'occupation',\n",
    "    'relationship',\n",
    "    'race',\n",
    "    'sex',\n",
    "    'capital-gain',\n",
    "    'capital-loss',\n",
    "    'hours-per-week',\n",
    "    'native-country',\n",
    "    'income'\n",
    "]\n",
    "dataset = pd.read_csv(census_data_file, names=headers)"
   ]
  },
  {
   "cell_type": "code",
   "execution_count": 12,
   "metadata": {},
   "outputs": [
    {
     "name": "stdout",
     "output_type": "stream",
     "text": [
      "(32561, 15)\n"
     ]
    }
   ],
   "source": [
    "print(dataset.shape)"
   ]
  },
  {
   "cell_type": "code",
   "execution_count": 13,
   "metadata": {},
   "outputs": [
    {
     "name": "stdout",
     "output_type": "stream",
     "text": [
      "   age          workclass  fnlwgt   education  education-num  \\\n",
      "0   39          State-gov   77516   Bachelors             13   \n",
      "1   50   Self-emp-not-inc   83311   Bachelors             13   \n",
      "2   38            Private  215646     HS-grad              9   \n",
      "3   53            Private  234721        11th              7   \n",
      "4   28            Private  338409   Bachelors             13   \n",
      "\n",
      "        marital-status          occupation    relationship    race      sex  \\\n",
      "0        Never-married        Adm-clerical   Not-in-family   White     Male   \n",
      "1   Married-civ-spouse     Exec-managerial         Husband   White     Male   \n",
      "2             Divorced   Handlers-cleaners   Not-in-family   White     Male   \n",
      "3   Married-civ-spouse   Handlers-cleaners         Husband   Black     Male   \n",
      "4   Married-civ-spouse      Prof-specialty            Wife   Black   Female   \n",
      "\n",
      "   capital-gain  capital-loss  hours-per-week  native-country  income  \n",
      "0          2174             0              40   United-States   <=50K  \n",
      "1             0             0              13   United-States   <=50K  \n",
      "2             0             0              40   United-States   <=50K  \n",
      "3             0             0              40   United-States   <=50K  \n",
      "4             0             0              40            Cuba   <=50K  \n"
     ]
    }
   ],
   "source": [
    "print(dataset.head())"
   ]
  },
  {
   "cell_type": "markdown",
   "metadata": {},
   "source": [
    "### Convert target column to integer"
   ]
  },
  {
   "cell_type": "markdown",
   "metadata": {},
   "source": [
    "We are trying to classify individuals into incomes above or below $50k. The value provided in the income cata"
   ]
  },
  {
   "cell_type": "code",
   "execution_count": 14,
   "metadata": {},
   "outputs": [
    {
     "data": {
      "text/plain": [
       "array([' <=50K', ' >50K'], dtype=object)"
      ]
     },
     "execution_count": 14,
     "metadata": {},
     "output_type": "execute_result"
    }
   ],
   "source": [
    "dataset['income'].unique()"
   ]
  },
  {
   "cell_type": "code",
   "execution_count": 15,
   "metadata": {},
   "outputs": [],
   "source": [
    "list=[]\n",
    "for income in dataset['income']:\n",
    "    if income == ' <=50K':\n",
    "        list.append(0)\n",
    "    if income == ' >50K':\n",
    "        list.append(1)\n",
    "\n",
    "dataset['income'] = list"
   ]
  },
  {
   "cell_type": "markdown",
   "metadata": {},
   "source": [
    "### Normalize numeric features"
   ]
  },
  {
   "cell_type": "code",
   "execution_count": 16,
   "metadata": {},
   "outputs": [],
   "source": [
    "columns_to_normalize = [\n",
    "    'age',\n",
    "    'education-num',\n",
    "    'capital-gain',\n",
    "    'capital-loss',\n",
    "    'hours-per-week'\n",
    "]\n",
    "dataset[columns_to_normalize] = dataset[columns_to_normalize].apply(\n",
    "    lambda x: (x - x.min()) / (x.max() - x.min())\n",
    ")"
   ]
  },
  {
   "cell_type": "code",
   "execution_count": 17,
   "metadata": {},
   "outputs": [],
   "source": [
    "age_feature = tf.feature_column.numeric_column(\"age\")\n",
    "education_num_feature = tf.feature_column.numeric_column(\"education_num\")\n",
    "capital_gain_feature = tf.feature_column.numeric_column(\"capital_gain\")\n",
    "capital_loss_feature = tf.feature_column.numeric_column(\"capital_loss\")\n",
    "hours_worked_feature = tf.feature_column.numeric_column(\"hours_per_week\")"
   ]
  },
  {
   "cell_type": "markdown",
   "metadata": {},
   "source": [
    "### Encode categorical features"
   ]
  },
  {
   "cell_type": "code",
   "execution_count": 82,
   "metadata": {},
   "outputs": [
    {
     "data": {
      "text/html": [
       "<div>\n",
       "<style scoped>\n",
       "    .dataframe tbody tr th:only-of-type {\n",
       "        vertical-align: middle;\n",
       "    }\n",
       "\n",
       "    .dataframe tbody tr th {\n",
       "        vertical-align: top;\n",
       "    }\n",
       "\n",
       "    .dataframe thead th {\n",
       "        text-align: right;\n",
       "    }\n",
       "</style>\n",
       "<table border=\"1\" class=\"dataframe\">\n",
       "  <thead>\n",
       "    <tr style=\"text-align: right;\">\n",
       "      <th></th>\n",
       "      <th>education</th>\n",
       "      <th>workclass</th>\n",
       "      <th>marital-status</th>\n",
       "      <th>occupation</th>\n",
       "      <th>relationship</th>\n",
       "      <th>race</th>\n",
       "      <th>sex</th>\n",
       "      <th>native-country</th>\n",
       "    </tr>\n",
       "  </thead>\n",
       "  <tbody>\n",
       "    <tr>\n",
       "      <th>0</th>\n",
       "      <td>0</td>\n",
       "      <td>0</td>\n",
       "      <td>0</td>\n",
       "      <td>0</td>\n",
       "      <td>0</td>\n",
       "      <td>0</td>\n",
       "      <td>0</td>\n",
       "      <td>0</td>\n",
       "    </tr>\n",
       "    <tr>\n",
       "      <th>1</th>\n",
       "      <td>0</td>\n",
       "      <td>1</td>\n",
       "      <td>1</td>\n",
       "      <td>1</td>\n",
       "      <td>1</td>\n",
       "      <td>0</td>\n",
       "      <td>0</td>\n",
       "      <td>0</td>\n",
       "    </tr>\n",
       "    <tr>\n",
       "      <th>2</th>\n",
       "      <td>1</td>\n",
       "      <td>2</td>\n",
       "      <td>2</td>\n",
       "      <td>2</td>\n",
       "      <td>0</td>\n",
       "      <td>0</td>\n",
       "      <td>0</td>\n",
       "      <td>0</td>\n",
       "    </tr>\n",
       "    <tr>\n",
       "      <th>3</th>\n",
       "      <td>2</td>\n",
       "      <td>2</td>\n",
       "      <td>1</td>\n",
       "      <td>2</td>\n",
       "      <td>1</td>\n",
       "      <td>1</td>\n",
       "      <td>0</td>\n",
       "      <td>0</td>\n",
       "    </tr>\n",
       "    <tr>\n",
       "      <th>4</th>\n",
       "      <td>0</td>\n",
       "      <td>2</td>\n",
       "      <td>1</td>\n",
       "      <td>3</td>\n",
       "      <td>2</td>\n",
       "      <td>1</td>\n",
       "      <td>1</td>\n",
       "      <td>1</td>\n",
       "    </tr>\n",
       "  </tbody>\n",
       "</table>\n",
       "</div>"
      ],
      "text/plain": [
       "   education  workclass  marital-status  occupation  relationship  race  sex  \\\n",
       "0          0          0               0           0             0     0    0   \n",
       "1          0          1               1           1             1     0    0   \n",
       "2          1          2               2           2             0     0    0   \n",
       "3          2          2               1           2             1     1    0   \n",
       "4          0          2               1           3             2     1    1   \n",
       "\n",
       "   native-country  \n",
       "0               0  \n",
       "1               0  \n",
       "2               0  \n",
       "3               0  \n",
       "4               1  "
      ]
     },
     "execution_count": 82,
     "metadata": {},
     "output_type": "execute_result"
    }
   ],
   "source": [
    "columns_to_encode = [\n",
    "    'education',\n",
    "    'workclass',\n",
    "    'marital-status',\n",
    "    'occupation',\n",
    "    'relationship',\n",
    "    'race',\n",
    "    'sex',\n",
    "    'native-country'\n",
    "]\n",
    "\n",
    "education_types = {}\n",
    "education_num = 0\n",
    "workclass_types = {}\n",
    "workclass_num = 0\n",
    "marital_status_types = {}\n",
    "marital_status_num = 0\n",
    "occupation_types = {}\n",
    "occupation_num = 0\n",
    "relationship_types = {}\n",
    "relationship_num = 0\n",
    "race_types = {}\n",
    "race_num = 0\n",
    "sex_types = {}\n",
    "sex_num = 0\n",
    "native_country_types = {}\n",
    "native_country_num = 0\n",
    "\n",
    "for index, row in dataset[columns_to_encode].iterrows():\n",
    "    # Education\n",
    "    edu = row['education']\n",
    "    if edu not in education_types:\n",
    "        education_types[edu] = education_num\n",
    "        education_num += 1\n",
    "    # Workclass\n",
    "    wrk = row['workclass']\n",
    "    if wrk not in workclass_types:\n",
    "        workclass_types[wrk] = workclass_num\n",
    "        workclass_num += 1\n",
    "    # Marital Status\n",
    "    ms = row['marital-status']\n",
    "    if ms not in marital_status_types:\n",
    "        marital_status_types[ms] = marital_status_num\n",
    "        marital_status_num += 1\n",
    "    # Occupation\n",
    "    occ = row['occupation']\n",
    "    if occ not in occupation_types:\n",
    "        occupation_types[occ] = occupation_num\n",
    "        occupation_num += 1\n",
    "    # Relationship\n",
    "    rel = row['relationship']\n",
    "    if rel not in relationship_types:\n",
    "        relationship_types[rel] = relationship_num\n",
    "        relationship_num += 1\n",
    "    # Race\n",
    "    race = row['race']\n",
    "    if race not in race_types:\n",
    "        race_types[race] = race_num\n",
    "        race_num += 1\n",
    "    # Sex\n",
    "    sex = row['sex']\n",
    "    if sex not in sex_types:\n",
    "        sex_types[sex] = sex_num\n",
    "        sex_num += 1\n",
    "    # Native Country\n",
    "    nc = row['native-country']\n",
    "    if nc not in native_country_types:\n",
    "        native_country_types[nc] = native_country_num\n",
    "        native_country_num += 1\n",
    "        \n",
    "        \n",
    "edu_list = []\n",
    "for education in dataset['education']:\n",
    "    edu_list.append(education_types[education])\n",
    "dataset['education'] = edu_list\n",
    "\n",
    "wrk_list = []\n",
    "for workclass in dataset['workclass']:\n",
    "    wrk_list.append(workclass_types[workclass])\n",
    "dataset['workclass'] = wrk_list \n",
    "\n",
    "ms_list = []\n",
    "for marital_status in dataset['marital-status']:\n",
    "    ms_list.append(marital_status_types[marital_status])\n",
    "dataset['marital-status'] = ms_list\n",
    "\n",
    "occ_list = []\n",
    "for occupation in dataset['occupation']:\n",
    "    occ_list.append(occupation_types[occupation])\n",
    "dataset['occupation'] = occ_list\n",
    "\n",
    "rel_list = []\n",
    "for relationship in dataset['relationship']:\n",
    "    rel_list.append(relationship_types[relationship])\n",
    "dataset['relationship'] = rel_list\n",
    "\n",
    "race_list = []\n",
    "for race in dataset['race']:\n",
    "    race_list.append(race_types[race])\n",
    "dataset['race'] = race_list\n",
    "\n",
    "sex_list = []\n",
    "for sex in dataset['sex']:\n",
    "    sex_list.append(sex_types[sex])\n",
    "dataset['sex'] = sex_list\n",
    "\n",
    "nc_list = []\n",
    "for native_country in dataset['native-country']:\n",
    "    nc_list.append(native_country_types[native_country])\n",
    "dataset['native-country'] = nc_list\n",
    "\n",
    "\n",
    "dataset[columns_to_encode].head()"
   ]
  },
  {
   "cell_type": "markdown",
   "metadata": {},
   "source": [
    "## Define Training and Test Data"
   ]
  },
  {
   "cell_type": "code",
   "execution_count": 83,
   "metadata": {},
   "outputs": [],
   "source": [
    "data = dataset.drop(\"income\", axis=1)\n",
    "labels = dataset[\"income\"]"
   ]
  },
  {
   "cell_type": "code",
   "execution_count": 84,
   "metadata": {},
   "outputs": [],
   "source": [
    "training_data, testing_data, training_labels, testing_lables = train_test_split(data, labels, test_size=0.2)"
   ]
  },
  {
   "cell_type": "code",
   "execution_count": 85,
   "metadata": {},
   "outputs": [
    {
     "name": "stdout",
     "output_type": "stream",
     "text": [
      "26048 train examples\n",
      "6513 test examples\n"
     ]
    }
   ],
   "source": [
    "print(len(training_data), 'train examples')\n",
    "print(len(testing_data), 'test examples')"
   ]
  },
  {
   "cell_type": "code",
   "execution_count": 86,
   "metadata": {},
   "outputs": [
    {
     "data": {
      "text/html": [
       "<div>\n",
       "<style scoped>\n",
       "    .dataframe tbody tr th:only-of-type {\n",
       "        vertical-align: middle;\n",
       "    }\n",
       "\n",
       "    .dataframe tbody tr th {\n",
       "        vertical-align: top;\n",
       "    }\n",
       "\n",
       "    .dataframe thead th {\n",
       "        text-align: right;\n",
       "    }\n",
       "</style>\n",
       "<table border=\"1\" class=\"dataframe\">\n",
       "  <thead>\n",
       "    <tr style=\"text-align: right;\">\n",
       "      <th></th>\n",
       "      <th>age</th>\n",
       "      <th>workclass</th>\n",
       "      <th>fnlwgt</th>\n",
       "      <th>education</th>\n",
       "      <th>education-num</th>\n",
       "      <th>marital-status</th>\n",
       "      <th>occupation</th>\n",
       "      <th>relationship</th>\n",
       "      <th>race</th>\n",
       "      <th>sex</th>\n",
       "      <th>capital-gain</th>\n",
       "      <th>capital-loss</th>\n",
       "      <th>hours-per-week</th>\n",
       "      <th>native-country</th>\n",
       "      <th>native-country</th>\n",
       "    </tr>\n",
       "  </thead>\n",
       "  <tbody>\n",
       "    <tr>\n",
       "      <th>24645</th>\n",
       "      <td>0.150685</td>\n",
       "      <td>2</td>\n",
       "      <td>162298</td>\n",
       "      <td>1</td>\n",
       "      <td>0.533333</td>\n",
       "      <td>0</td>\n",
       "      <td>6</td>\n",
       "      <td>3</td>\n",
       "      <td>0</td>\n",
       "      <td>0</td>\n",
       "      <td>0.0</td>\n",
       "      <td>0.000000</td>\n",
       "      <td>0.397959</td>\n",
       "      <td>0</td>\n",
       "      <td>0</td>\n",
       "    </tr>\n",
       "    <tr>\n",
       "      <th>19112</th>\n",
       "      <td>0.739726</td>\n",
       "      <td>1</td>\n",
       "      <td>130436</td>\n",
       "      <td>13</td>\n",
       "      <td>0.066667</td>\n",
       "      <td>2</td>\n",
       "      <td>6</td>\n",
       "      <td>0</td>\n",
       "      <td>0</td>\n",
       "      <td>1</td>\n",
       "      <td>0.0</td>\n",
       "      <td>0.000000</td>\n",
       "      <td>0.275510</td>\n",
       "      <td>0</td>\n",
       "      <td>0</td>\n",
       "    </tr>\n",
       "    <tr>\n",
       "      <th>11592</th>\n",
       "      <td>0.260274</td>\n",
       "      <td>2</td>\n",
       "      <td>181721</td>\n",
       "      <td>12</td>\n",
       "      <td>0.333333</td>\n",
       "      <td>0</td>\n",
       "      <td>8</td>\n",
       "      <td>3</td>\n",
       "      <td>1</td>\n",
       "      <td>0</td>\n",
       "      <td>0.0</td>\n",
       "      <td>0.000000</td>\n",
       "      <td>0.602041</td>\n",
       "      <td>0</td>\n",
       "      <td>0</td>\n",
       "    </tr>\n",
       "    <tr>\n",
       "      <th>5755</th>\n",
       "      <td>0.534247</td>\n",
       "      <td>2</td>\n",
       "      <td>182460</td>\n",
       "      <td>1</td>\n",
       "      <td>0.533333</td>\n",
       "      <td>1</td>\n",
       "      <td>2</td>\n",
       "      <td>1</td>\n",
       "      <td>0</td>\n",
       "      <td>0</td>\n",
       "      <td>0.0</td>\n",
       "      <td>0.000000</td>\n",
       "      <td>0.397959</td>\n",
       "      <td>0</td>\n",
       "      <td>0</td>\n",
       "    </tr>\n",
       "    <tr>\n",
       "      <th>31139</th>\n",
       "      <td>0.136986</td>\n",
       "      <td>2</td>\n",
       "      <td>215504</td>\n",
       "      <td>0</td>\n",
       "      <td>0.800000</td>\n",
       "      <td>1</td>\n",
       "      <td>5</td>\n",
       "      <td>1</td>\n",
       "      <td>0</td>\n",
       "      <td>0</td>\n",
       "      <td>0.0</td>\n",
       "      <td>0.424242</td>\n",
       "      <td>0.551020</td>\n",
       "      <td>0</td>\n",
       "      <td>0</td>\n",
       "    </tr>\n",
       "  </tbody>\n",
       "</table>\n",
       "</div>"
      ],
      "text/plain": [
       "            age  workclass  fnlwgt  education  education-num  marital-status  \\\n",
       "24645  0.150685          2  162298          1       0.533333               0   \n",
       "19112  0.739726          1  130436         13       0.066667               2   \n",
       "11592  0.260274          2  181721         12       0.333333               0   \n",
       "5755   0.534247          2  182460          1       0.533333               1   \n",
       "31139  0.136986          2  215504          0       0.800000               1   \n",
       "\n",
       "       occupation  relationship  race  sex  capital-gain  capital-loss  \\\n",
       "24645           6             3     0    0           0.0      0.000000   \n",
       "19112           6             0     0    1           0.0      0.000000   \n",
       "11592           8             3     1    0           0.0      0.000000   \n",
       "5755            2             1     0    0           0.0      0.000000   \n",
       "31139           5             1     0    0           0.0      0.424242   \n",
       "\n",
       "       hours-per-week  native-country  native-country   \n",
       "24645        0.397959               0                0  \n",
       "19112        0.275510               0                0  \n",
       "11592        0.602041               0                0  \n",
       "5755         0.397959               0                0  \n",
       "31139        0.551020               0                0  "
      ]
     },
     "execution_count": 86,
     "metadata": {},
     "output_type": "execute_result"
    }
   ],
   "source": [
    "training_data.head()"
   ]
  },
  {
   "cell_type": "code",
   "execution_count": 97,
   "metadata": {},
   "outputs": [
    {
     "data": {
      "text/plain": [
       "(26048, 15)"
      ]
     },
     "execution_count": 97,
     "metadata": {},
     "output_type": "execute_result"
    }
   ],
   "source": [
    "training_data.shape"
   ]
  },
  {
   "cell_type": "markdown",
   "metadata": {},
   "source": [
    "### Build the model"
   ]
  },
  {
   "cell_type": "code",
   "execution_count": 111,
   "metadata": {},
   "outputs": [],
   "source": [
    "model = keras.Sequential([\n",
    "    keras.layers.Dense(16, input_shape=(15,), activation=tf.nn.relu),\n",
    "    keras.layers.Dense(2, activation=tf.nn.softmax)\n",
    "])"
   ]
  },
  {
   "cell_type": "code",
   "execution_count": 112,
   "metadata": {},
   "outputs": [],
   "source": [
    "model.compile(\n",
    "    optimizer='rmsprop',\n",
    "    loss='binary_crossentropy',\n",
    "    metrics=['accuracy']\n",
    ")"
   ]
  },
  {
   "cell_type": "code",
   "execution_count": 113,
   "metadata": {},
   "outputs": [
    {
     "name": "stdout",
     "output_type": "stream",
     "text": [
      "Epoch 1/5\n",
      "26048/26048 [==============================] - 1s 34us/sample - loss: 3.8223 - acc: 0.7616\n",
      "Epoch 2/5\n",
      "26048/26048 [==============================] - 1s 28us/sample - loss: 3.8223 - acc: 0.7616\n",
      "Epoch 3/5\n",
      "26048/26048 [==============================] - 1s 29us/sample - loss: 3.8223 - acc: 0.7616\n",
      "Epoch 4/5\n",
      "26048/26048 [==============================] - 1s 28us/sample - loss: 3.8223 - acc: 0.7616\n",
      "Epoch 5/5\n",
      "26048/26048 [==============================] - 1s 33us/sample - loss: 3.8223 - acc: 0.7616\n"
     ]
    },
    {
     "data": {
      "text/plain": [
       "<tensorflow.python.keras.callbacks.History at 0x7f8240333d30>"
      ]
     },
     "execution_count": 113,
     "metadata": {},
     "output_type": "execute_result"
    }
   ],
   "source": [
    "model.fit(\n",
    "    training_data,\n",
    "    to_categorical(training_labels),\n",
    "    epochs=5\n",
    ")"
   ]
  }
 ],
 "metadata": {
  "kernelspec": {
   "display_name": "Python 3",
   "language": "python",
   "name": "python3"
  },
  "language_info": {
   "codemirror_mode": {
    "name": "ipython",
    "version": 3
   },
   "file_extension": ".py",
   "mimetype": "text/x-python",
   "name": "python",
   "nbconvert_exporter": "python",
   "pygments_lexer": "ipython3",
   "version": "3.7.3"
  }
 },
 "nbformat": 4,
 "nbformat_minor": 2
}
